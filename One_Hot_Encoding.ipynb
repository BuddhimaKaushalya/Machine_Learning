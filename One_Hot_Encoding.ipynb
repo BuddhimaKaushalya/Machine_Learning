{
 "cells": [
  {
   "cell_type": "code",
   "execution_count": 1,
   "id": "26ae4c7c-621d-4ccb-be17-a7e1e2112c8a",
   "metadata": {},
   "outputs": [
    {
     "data": {
      "text/plain": [
       "0       Pass\n",
       "1       Fail\n",
       "2       Pass\n",
       "3       Pass\n",
       "4     Absent\n",
       "5       Fail\n",
       "6       Fail\n",
       "7       Pass\n",
       "8       Pass\n",
       "9     Absent\n",
       "10      Pass\n",
       "Name: result, dtype: object"
      ]
     },
     "execution_count": 1,
     "metadata": {},
     "output_type": "execute_result"
    }
   ],
   "source": [
    "import pandas as pd\n",
    "data = pd.read_csv(\"Book4.csv\")\n",
    "data['result']"
   ]
  },
  {
   "cell_type": "code",
   "execution_count": 2,
   "id": "fea980f8-90fc-4f17-9ccd-ee30023ecaea",
   "metadata": {},
   "outputs": [],
   "source": [
    "result_category = data['result']"
   ]
  },
  {
   "cell_type": "code",
   "execution_count": 4,
   "id": "b52575f3-d75a-40b4-9369-4f8a1be22b7d",
   "metadata": {},
   "outputs": [
    {
     "data": {
      "text/plain": [
       "array([2, 1, 2, 2, 0, 1, 1, 2, 2, 0, 2])"
      ]
     },
     "execution_count": 4,
     "metadata": {},
     "output_type": "execute_result"
    }
   ],
   "source": [
    "from sklearn.preprocessing import LabelEncoder\n",
    "obj = LabelEncoder()\n",
    "result = obj.fit_transform(result_category)\n",
    "result"
   ]
  },
  {
   "cell_type": "code",
   "execution_count": 5,
   "id": "6af6264e-16fe-4b42-9c88-1ada4db3a941",
   "metadata": {},
   "outputs": [
    {
     "data": {
      "text/plain": [
       "array([[0, 0, 1],\n",
       "       [0, 1, 0],\n",
       "       [0, 0, 1],\n",
       "       [0, 0, 1],\n",
       "       [1, 0, 0],\n",
       "       [0, 1, 0],\n",
       "       [0, 1, 0],\n",
       "       [0, 0, 1],\n",
       "       [0, 0, 1],\n",
       "       [1, 0, 0],\n",
       "       [0, 0, 1]])"
      ]
     },
     "execution_count": 5,
     "metadata": {},
     "output_type": "execute_result"
    }
   ],
   "source": [
    "from sklearn.preprocessing import LabelBinarizer\n",
    "obj = LabelBinarizer()\n",
    "result = obj.fit_transform(result_category)\n",
    "result"
   ]
  },
  {
   "cell_type": "code",
   "execution_count": 6,
   "id": "ab1957ba-14d7-4145-9bdd-07022930cc23",
   "metadata": {},
   "outputs": [
    {
     "data": {
      "text/plain": [
       "array(['Absent', 'Fail', 'Pass'], dtype='<U6')"
      ]
     },
     "execution_count": 6,
     "metadata": {},
     "output_type": "execute_result"
    }
   ],
   "source": [
    "obj.classes_"
   ]
  },
  {
   "cell_type": "code",
   "execution_count": null,
   "id": "97cadf7d-ad11-42be-ba72-702b927c7314",
   "metadata": {},
   "outputs": [],
   "source": []
  }
 ],
 "metadata": {
  "kernelspec": {
   "display_name": "Python 3 (ipykernel)",
   "language": "python",
   "name": "python3"
  },
  "language_info": {
   "codemirror_mode": {
    "name": "ipython",
    "version": 3
   },
   "file_extension": ".py",
   "mimetype": "text/x-python",
   "name": "python",
   "nbconvert_exporter": "python",
   "pygments_lexer": "ipython3",
   "version": "3.12.5"
  }
 },
 "nbformat": 4,
 "nbformat_minor": 5
}
