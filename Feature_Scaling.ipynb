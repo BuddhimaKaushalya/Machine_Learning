{
 "cells": [
  {
   "cell_type": "code",
<<<<<<< HEAD
   "execution_count": 1,
=======
   "execution_count": 3,
>>>>>>> 979fb0c (Feature Scaling added)
   "id": "7531b537-73bd-41b9-9b4b-254346869e3f",
   "metadata": {},
   "outputs": [],
   "source": [
    "import numpy as np"
   ]
  },
  {
   "cell_type": "code",
<<<<<<< HEAD
   "execution_count": 2,
=======
   "execution_count": 4,
>>>>>>> 979fb0c (Feature Scaling added)
   "id": "8ecdcfbd-6bc4-4a33-8e2d-369315dde83d",
   "metadata": {},
   "outputs": [],
   "source": [
    "data = np.array([[26, 50000],\n",
    "                 [29,70000],\n",
    "                 [34, 55000],\n",
    "                 [31, 41000]])\n",
    "    \n",
    "                \n",
    "    \n",
    "                "
   ]
  },
  {
   "cell_type": "markdown",
   "id": "7d7696c8-7122-4b99-be20-97a7828c4798",
   "metadata": {},
   "source": [
    "# Normalization"
   ]
  },
  {
   "cell_type": "code",
<<<<<<< HEAD
   "execution_count": null,
   "id": "3138b747-fcc5-4160-9c9d-178c1f302fa5",
   "metadata": {},
   "outputs": [],
=======
   "execution_count": 5,
   "id": "3138b747-fcc5-4160-9c9d-178c1f302fa5",
   "metadata": {},
   "outputs": [],
   "source": [
    "from sklearn.preprocessing import MinMaxScaler"
   ]
  },
  {
   "cell_type": "code",
   "execution_count": 6,
   "id": "a73fcb64-186f-48ca-be61-21a38f7e97a2",
   "metadata": {},
   "outputs": [
    {
     "data": {
      "text/plain": [
       "array([[0.        , 0.31034483],\n",
       "       [0.375     , 1.        ],\n",
       "       [1.        , 0.48275862],\n",
       "       [0.625     , 0.        ]])"
      ]
     },
     "execution_count": 6,
     "metadata": {},
     "output_type": "execute_result"
    }
   ],
   "source": [
    "scaler = MinMaxScaler()\n",
    "scaled_data = scaler.fit_transform(data)\n",
    "scaled_data"
   ]
  },
  {
   "cell_type": "markdown",
   "id": "08e44882-150d-4236-8af5-8e7796f4cead",
   "metadata": {},
   "source": [
    "# Standardization"
   ]
  },
  {
   "cell_type": "code",
   "execution_count": 9,
   "id": "de3028c0-6c25-4f2a-95c1-cf541cbd2405",
   "metadata": {},
   "outputs": [],
   "source": [
    "from sklearn.preprocessing import StandardScaler"
   ]
  },
  {
   "cell_type": "code",
   "execution_count": 10,
   "id": "eb5c80a2-3f44-486f-8114-9398990a5ecc",
   "metadata": {},
   "outputs": [
    {
     "data": {
      "text/plain": [
       "array([[-1.37198868, -0.3805212 ],\n",
       "       [-0.34299717,  1.52208478],\n",
       "       [ 1.37198868,  0.0951303 ],\n",
       "       [ 0.34299717, -1.23669388]])"
      ]
     },
     "execution_count": 10,
     "metadata": {},
     "output_type": "execute_result"
    }
   ],
   "source": [
    "scaler = StandardScaler()\n",
    "scaled_data = scaler.fit_transform(data)\n",
    "scaled_data"
   ]
  },
  {
   "cell_type": "code",
   "execution_count": null,
   "id": "90f909bf-f23c-44de-8bc5-6db4961baa38",
   "metadata": {},
   "outputs": [],
>>>>>>> 979fb0c (Feature Scaling added)
   "source": []
  }
 ],
 "metadata": {
  "kernelspec": {
   "display_name": "Python 3 (ipykernel)",
   "language": "python",
   "name": "python3"
  },
  "language_info": {
   "codemirror_mode": {
    "name": "ipython",
    "version": 3
   },
   "file_extension": ".py",
   "mimetype": "text/x-python",
   "name": "python",
   "nbconvert_exporter": "python",
   "pygments_lexer": "ipython3",
<<<<<<< HEAD
   "version": "3.12.5"
=======
   "version": "3.12.6"
>>>>>>> 979fb0c (Feature Scaling added)
  }
 },
 "nbformat": 4,
 "nbformat_minor": 5
}
