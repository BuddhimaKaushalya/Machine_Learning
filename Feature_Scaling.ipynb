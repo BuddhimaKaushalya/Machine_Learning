{
 "cells": [
  {
   "cell_type": "code",
   "execution_count": 1,
   "id": "7531b537-73bd-41b9-9b4b-254346869e3f",
   "metadata": {},
   "outputs": [],
   "source": [
    "import numpy as np"
   ]
  },
  {
   "cell_type": "code",
   "execution_count": 2,
   "id": "8ecdcfbd-6bc4-4a33-8e2d-369315dde83d",
   "metadata": {},
   "outputs": [],
   "source": [
    "data = np.array([[26, 50000],\n",
    "                 [29,70000],\n",
    "                 [34, 55000],\n",
    "                 [31, 41000]])\n",
    "    \n",
    "                \n",
    "    \n",
    "                "
   ]
  },
  {
   "cell_type": "markdown",
   "id": "7d7696c8-7122-4b99-be20-97a7828c4798",
   "metadata": {},
   "source": [
    "# Normalization"
   ]
  },
  {
   "cell_type": "code",
   "execution_count": null,
   "id": "3138b747-fcc5-4160-9c9d-178c1f302fa5",
   "metadata": {},
   "outputs": [],
   "source": []
  }
 ],
 "metadata": {
  "kernelspec": {
   "display_name": "Python 3 (ipykernel)",
   "language": "python",
   "name": "python3"
  },
  "language_info": {
   "codemirror_mode": {
    "name": "ipython",
    "version": 3
   },
   "file_extension": ".py",
   "mimetype": "text/x-python",
   "name": "python",
   "nbconvert_exporter": "python",
   "pygments_lexer": "ipython3",
   "version": "3.12.5"
  }
 },
 "nbformat": 4,
 "nbformat_minor": 5
}
